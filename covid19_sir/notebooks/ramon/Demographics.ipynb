{
 "cells": [
  {
   "cell_type": "markdown",
   "id": "emerging-replacement",
   "metadata": {},
   "source": [
    "**NOTE:** This notebook has the code that has been used to simulate the new demographics function added as a way to specify the age of the population according to some real place. In this case, the county of Greene (Missouri)."
   ]
  },
  {
   "cell_type": "code",
   "execution_count": 58,
   "id": "intelligent-broadcast",
   "metadata": {},
   "outputs": [],
   "source": [
    "import pandas as pd\n",
    "import matplotlib.pyplot as plt\n",
    "import numpy as np"
   ]
  },
  {
   "cell_type": "markdown",
   "id": "personal-apartment",
   "metadata": {},
   "source": [
    "# Current Age Generation Function"
   ]
  },
  {
   "cell_type": "code",
   "execution_count": 2,
   "id": "tutorial-firewall",
   "metadata": {},
   "outputs": [
    {
     "data": {
      "text/plain": [
       "(array([ 974., 2002., 2167., 1888., 1354.,  836.,  490.,  211.,   62.,\n",
       "          16.]),\n",
       " array([ 0. ,  8.9, 17.8, 26.7, 35.6, 44.5, 53.4, 62.3, 71.2, 80.1, 89. ]),\n",
       " <BarContainer object of 10 artists>)"
      ]
     },
     "execution_count": 2,
     "metadata": {},
     "output_type": "execute_result"
    },
    {
     "data": {
      "image/png": "[encoded data removed]",
      "text/plain": [
       "<Figure size 432x288 with 1 Axes>"
      ]
     },
     "metadata": {
      "needs_background": "light"
     },
     "output_type": "display_data"
    }
   ],
   "source": [
    "age_list = []\n",
    "for n in np.arange(10000):\n",
    "    age = int(np.random.beta(2, 5, 1) * 100)\n",
    "    age_list.append(age)\n",
    "plt.hist(age_list)"
   ]
  },
  {
   "cell_type": "markdown",
   "id": "written-exercise",
   "metadata": {},
   "source": [
    "## New Roulette Age Selection"
   ]
  },
  {
   "cell_type": "code",
   "execution_count": 10,
   "id": "organizational-script",
   "metadata": {},
   "outputs": [],
   "source": [
    "# percent of people with age <= key\n",
    "greene_demographics = {\n",
    "    'age_distribution':{\n",
    "        4: 6.0,\n",
    "        9: 5.7,\n",
    "        14: 5.8,\n",
    "        19: 6.5,\n",
    "        24: 10.6,\n",
    "        34: 14.1,\n",
    "        44: 11.7,\n",
    "        54: 11.5,\n",
    "        59: 6.0,\n",
    "        64: 6.0,\n",
    "        74: 8.9,\n",
    "        84: 5.0,\n",
    "        100: 2.1\n",
    "    },\n",
    "    #'work_classes':{\n",
    "    #    'Retail': 12.7,\n",
    "    #}\n",
    "}\n",
    "\n",
    "# # percent of people with age <= key\n",
    "# greene_demographics = {\n",
    "#     'age':{\n",
    "#         54: 50.0,\n",
    "#         100: 50.0\n",
    "#     },\n",
    "#     #'work_classes':{\n",
    "#     #    'Retail': 12.7,\n",
    "#     #}\n",
    "# }\n",
    "\n",
    "\n",
    "greene_population = 293086"
   ]
  },
  {
   "cell_type": "code",
   "execution_count": 14,
   "id": "finnish-carolina",
   "metadata": {},
   "outputs": [],
   "source": [
    "class Demographics:\n",
    "    def __init__(self, demographics_dict):\n",
    "        allowed_keys = ['age_distribution']\n",
    "        assert all([key in allowed_keys for key in demographics_dict.keys()]), \"Demographics dictionary keys ({}) should be contained in {}.\".format(list(demographics_dict.keys()), allowed_keys)\n",
    "        \n",
    "        self.age_roulette = None\n",
    "        if 'age_distribution' in demographics_dict.keys():\n",
    "            self.age_distribution = demographics_dict['age_distribution']\n",
    "            self.age_roulette = self.convert_age_dict(self.age_distribution)\n",
    "    \n",
    "    def convert_age_dict(self, age_dict):\n",
    "        MAXIMUM_ALLOWED_AGE = 100\n",
    "        ages = list(age_dict.keys())\n",
    "        weights = list(age_dict.values())\n",
    "        assert min(ages) >= 1, \"Minimum expected age is 1\"\n",
    "        assert max(ages) <= MAXIMUM_ALLOWED_AGE, \"Maximum expected age is {}\".format(MAXIMUM_ALLOWED_AGE)\n",
    "\n",
    "        all_ages = []\n",
    "        all_weights = []\n",
    "        for i, age in enumerate(ages):\n",
    "            if i == 0:\n",
    "                repeated_age = list(range(1,age+1))\n",
    "                repeated_weight = [weights[i]]*len(repeated_age)\n",
    "                all_ages += repeated_age\n",
    "                all_weights += repeated_weight\n",
    "            else:\n",
    "                repeated_age = list(range(ages[i-1]+1,age+1))\n",
    "                repeated_weight = [weights[i]]*len(repeated_age)\n",
    "                all_ages += repeated_age\n",
    "                all_weights += repeated_weight\n",
    "        assert len(all_weights) == MAXIMUM_ALLOWED_AGE\n",
    "        return all_ages, all_weights"
   ]
  },
  {
   "cell_type": "code",
   "execution_count": 15,
   "id": "strong-indicator",
   "metadata": {},
   "outputs": [],
   "source": [
    "demo = Demographics(greene_demographics)"
   ]
  },
  {
   "cell_type": "markdown",
   "id": "higher-variation",
   "metadata": {},
   "source": [
    "#### Testing roulette selection"
   ]
  },
  {
   "cell_type": "code",
   "execution_count": 16,
   "id": "perceived-jerusalem",
   "metadata": {},
   "outputs": [],
   "source": [
    "from model.base import roulette_selection"
   ]
  },
  {
   "cell_type": "code",
   "execution_count": 17,
   "id": "recognized-junior",
   "metadata": {},
   "outputs": [
    {
     "data": {
      "image/png": "[encoded data removed]",
      "text/plain": [
       "<Figure size 432x288 with 1 Axes>"
      ]
     },
     "metadata": {
      "needs_background": "light"
     },
     "output_type": "display_data"
    }
   ],
   "source": [
    "all_ages = []\n",
    "for n in range(greene_population):\n",
    "    all_ages.append(roulette_selection(demo.age_roulette[0], demo.age_roulette[1]))\n",
    "\n",
    "plt.hist(all_ages, bins=20);\n",
    "plt.title('Resulting age histogram');"
   ]
  },
  {
   "cell_type": "code",
   "execution_count": 20,
   "id": "timely-twenty",
   "metadata": {},
   "outputs": [],
   "source": [
    "age_range_array = np.array([0] + list(greene_demographics['age_distribution'].keys()))\n",
    "age_percents = {}\n",
    "for i, age in enumerate(age_range_array):\n",
    "    if i == 0:\n",
    "        continue\n",
    "    age_percents[age] = 100 * np.sum(np.logical_and(all_ages > age_range_array[i-1], all_ages <= age_range_array[i])) / greene_population"
   ]
  },
  {
   "cell_type": "code",
   "execution_count": 21,
   "id": "discrete-inspector",
   "metadata": {},
   "outputs": [
    {
     "data": {
      "text/plain": [
       "{4: 3.1482227059634376,\n",
       " 9: 3.636475300764963,\n",
       " 14: 3.769883242461257,\n",
       " 19: 4.19126126802372,\n",
       " 24: 6.879891908859515,\n",
       " 34: 18.322949577939582,\n",
       " 44: 15.145042751956764,\n",
       " 54: 14.94714861849423,\n",
       " 59: 3.8425581569914633,\n",
       " 64: 3.8548412411374136,\n",
       " 74: 11.474106576226774,\n",
       " 84: 6.421664630859202,\n",
       " 100: 4.365954020321681}"
      ]
     },
     "execution_count": 21,
     "metadata": {},
     "output_type": "execute_result"
    }
   ],
   "source": [
    "age_percents"
   ]
  },
  {
   "cell_type": "code",
   "execution_count": 24,
   "id": "warming-vegetation",
   "metadata": {},
   "outputs": [
    {
     "data": {
      "text/plain": [
       "{4: 6.0,\n",
       " 9: 5.7,\n",
       " 14: 5.8,\n",
       " 19: 6.5,\n",
       " 24: 10.6,\n",
       " 34: 14.1,\n",
       " 44: 11.7,\n",
       " 54: 11.5,\n",
       " 59: 6.0,\n",
       " 64: 6.0,\n",
       " 74: 8.9,\n",
       " 84: 5.0,\n",
       " 100: 2.1}"
      ]
     },
     "execution_count": 24,
     "metadata": {},
     "output_type": "execute_result"
    }
   ],
   "source": [
    "greene_demographics['age_distribution']"
   ]
  },
  {
   "cell_type": "code",
   "execution_count": 25,
   "id": "recovered-potential",
   "metadata": {},
   "outputs": [
    {
     "data": {
      "text/plain": [
       "99.99999999999999"
      ]
     },
     "execution_count": 25,
     "metadata": {},
     "output_type": "execute_result"
    }
   ],
   "source": [
    "sum(age_percents.values())"
   ]
  },
  {
   "cell_type": "code",
   "execution_count": 27,
   "id": "knowing-opening",
   "metadata": {},
   "outputs": [
    {
     "data": {
      "text/plain": [
       "array([-2.85177729, -2.0635247 , -2.03011676, -2.30873873, -3.72010809,\n",
       "        4.22294958,  3.44504275,  3.44714862, -2.15744184, -2.14515876,\n",
       "        2.57410658,  1.42166463,  2.26595402])"
      ]
     },
     "execution_count": 27,
     "metadata": {},
     "output_type": "execute_result"
    }
   ],
   "source": [
    "np.array(list(age_percents.values())) - np.array(list(greene_demographics['age_distribution'].values()))"
   ]
  },
  {
   "cell_type": "markdown",
   "id": "useful-occupation",
   "metadata": {},
   "source": [
    "#### Creating roulette"
   ]
  },
  {
   "cell_type": "code",
   "execution_count": 30,
   "id": "reported-dakota",
   "metadata": {},
   "outputs": [
    {
     "data": {
      "text/plain": [
       "array([ 6. , 11.7, 17.5, 24. , 34.6, 48.7, 60.4, 71.9, 77.9, 83.9, 92.8,\n",
       "       97.8, 99.9])"
      ]
     },
     "execution_count": 30,
     "metadata": {},
     "output_type": "execute_result"
    }
   ],
   "source": [
    "#def demographics_roulette(values, weights, total_population):\n",
    "\n",
    "values = np.array(list(greene_demographics['age_distribution'].keys()))\n",
    "weights = list(greene_demographics['age_distribution'].values())\n",
    "\n",
    "total_value = sum(weights)\n",
    "cumsum_weights = np.cumsum(weights)\n",
    "cumsum_weights\n"
   ]
  },
  {
   "cell_type": "code",
   "execution_count": 31,
   "id": "editorial-tonight",
   "metadata": {},
   "outputs": [
    {
     "name": "stdout",
     "output_type": "stream",
     "text": [
      "11.883500742770002\n",
      "[  4   9  14  19  24  34  44  54  59  64  74  84 100]\n",
      "[ 6.  11.7 17.5 24.  34.6 48.7 60.4 71.9 77.9 83.9 92.8 97.8 99.9]\n",
      "[ True  True False False False False False False False False False False\n",
      " False]\n",
      "[4 9]\n",
      "9\n"
     ]
    }
   ],
   "source": [
    "random_number = np.random.random() * total_value\n",
    "\n",
    "print(random_number)\n",
    "print(values)\n",
    "print(cumsum_weights)\n",
    "print(cumsum_weights <= random_number)\n",
    "print(values[cumsum_weights <= random_number])\n",
    "\n",
    "lower_age_range = values[cumsum_weights <= random_number][-1]\n",
    "print(lower_age_range)"
   ]
  },
  {
   "cell_type": "code",
   "execution_count": 32,
   "id": "dramatic-external",
   "metadata": {},
   "outputs": [
    {
     "name": "stdout",
     "output_type": "stream",
     "text": [
      "14\n"
     ]
    }
   ],
   "source": [
    "lower_idx = list(values).index(lower_age_range)\n",
    "higher_age_range = values[lower_idx + 1]\n",
    "print(higher_age_range)"
   ]
  },
  {
   "cell_type": "markdown",
   "id": "sized-mustang",
   "metadata": {},
   "source": [
    "## New Approach"
   ]
  },
  {
   "cell_type": "code",
   "execution_count": 33,
   "id": "certain-emerald",
   "metadata": {},
   "outputs": [
    {
     "data": {
      "text/plain": [
       "293086"
      ]
     },
     "execution_count": 33,
     "metadata": {},
     "output_type": "execute_result"
    }
   ],
   "source": [
    "greene_population"
   ]
  },
  {
   "cell_type": "code",
   "execution_count": 34,
   "id": "postal-savage",
   "metadata": {},
   "outputs": [
    {
     "data": {
      "text/plain": [
       "{4: 6.0,\n",
       " 9: 5.7,\n",
       " 14: 5.8,\n",
       " 19: 6.5,\n",
       " 24: 10.6,\n",
       " 34: 14.1,\n",
       " 44: 11.7,\n",
       " 54: 11.5,\n",
       " 59: 6.0,\n",
       " 64: 6.0,\n",
       " 74: 8.9,\n",
       " 84: 5.0,\n",
       " 100: 2.1}"
      ]
     },
     "execution_count": 34,
     "metadata": {},
     "output_type": "execute_result"
    }
   ],
   "source": [
    "greene_demographics['age_distribution']"
   ]
  },
  {
   "cell_type": "code",
   "execution_count": 35,
   "id": "reflected-society",
   "metadata": {},
   "outputs": [],
   "source": [
    "total_population = greene_population\n",
    "age_dict = greene_demographics['age_distribution']\n",
    "# -----------\n",
    "# Calculates the number of agents in each age range using given weights\n",
    "weight_array = np.array(list(age_dict.values())) \n",
    "percent_array = weight_array / np.sum(weight_array)\n",
    "agents_by_age_range = []\n",
    "for p in percent_array:\n",
    "    agents_by_age_range.append(int(p * total_population))\n",
    "population = sum(agents_by_age_range)\n",
    "\n",
    "# Fixes rounding errors by changing the highest number only\n",
    "agents_by_age_range[agents_by_age_range.index(max(agents_by_age_range))] += total_population - population \n",
    "population = sum(agents_by_age_range)\n",
    "assert population == total_population\n",
    "\n",
    "# Gets random ages for each age range according to their respective number of agents\n",
    "age_range_array = np.array([0] + list(age_dict.keys()))\n",
    "agent_ages_by_range = []\n",
    "for i, age in enumerate(age_range_array):\n",
    "    if i == 0:\n",
    "        continue\n",
    "    agent_ages_by_range.append(np.random.randint(low = age_range_array[i-1]+1,\n",
    "                                                  high = age_range_array[i]+1,\n",
    "                                                  size = agents_by_age_range[i-1]))\n",
    "all_agent_ages = np.concatenate(agent_ages_by_range)\n",
    "assert len(all_agent_ages) == total_population"
   ]
  },
  {
   "cell_type": "markdown",
   "id": "reflected-maple",
   "metadata": {},
   "source": [
    "### Testing proportions"
   ]
  },
  {
   "cell_type": "code",
   "execution_count": 44,
   "id": "hazardous-vector",
   "metadata": {},
   "outputs": [
    {
     "data": {
      "text/plain": [
       "{4: 6.0,\n",
       " 9: 5.7,\n",
       " 14: 5.8,\n",
       " 19: 6.5,\n",
       " 24: 10.6,\n",
       " 34: 14.1,\n",
       " 44: 11.7,\n",
       " 54: 11.5,\n",
       " 59: 6.0,\n",
       " 64: 6.0,\n",
       " 74: 8.9,\n",
       " 84: 5.0,\n",
       " 100: 2.1}"
      ]
     },
     "execution_count": 44,
     "metadata": {},
     "output_type": "execute_result"
    }
   ],
   "source": [
    "age_range_array = np.array([0] + list(greene_demographics['age_distribution'].keys()))\n",
    "age_percents = {}\n",
    "for i, age in enumerate(age_range_array):\n",
    "    if i == 0:\n",
    "        continue\n",
    "    age_percents[age] = np.round(100 * np.sum(np.logical_and(all_agent_ages > age_range_array[i-1], all_agent_ages <= age_range_array[i])) / total_population, 1)\n",
    "age_percents"
   ]
  },
  {
   "cell_type": "code",
   "execution_count": 45,
   "id": "numeric-darkness",
   "metadata": {},
   "outputs": [
    {
     "data": {
      "text/plain": [
       "{4: 6.0,\n",
       " 9: 5.7,\n",
       " 14: 5.8,\n",
       " 19: 6.5,\n",
       " 24: 10.6,\n",
       " 34: 14.1,\n",
       " 44: 11.7,\n",
       " 54: 11.5,\n",
       " 59: 6.0,\n",
       " 64: 6.0,\n",
       " 74: 8.9,\n",
       " 84: 5.0,\n",
       " 100: 2.1}"
      ]
     },
     "execution_count": 45,
     "metadata": {},
     "output_type": "execute_result"
    }
   ],
   "source": [
    "greene_demographics['age_distribution']"
   ]
  },
  {
   "cell_type": "markdown",
   "id": "overall-ecuador",
   "metadata": {},
   "source": [
    "### Assembling class"
   ]
  },
  {
   "cell_type": "code",
   "execution_count": 46,
   "id": "induced-caution",
   "metadata": {},
   "outputs": [],
   "source": [
    "class Demographics:\n",
    "    def __init__(self, demographics_dict):\n",
    "        allowed_keys = ['total_population', 'age_distribution']\n",
    "        assert all([key in allowed_keys for key in demographics_dict.keys()]), \"Demographics dictionary keys ({}) should be contained in {}.\".format(list(demographics_dict.keys()), allowed_keys)\n",
    "        \n",
    "        self.demographics_dict = demographics_dict\n",
    "        self.agent_ages = None\n",
    "        self.total_population = None\n",
    "        if 'age_distribution' in demographics_dict.keys():\n",
    "            assert 'total_population' in demographics_dict.keys(), \"Total population is necessary to do age calculations\"\n",
    "            self.total_population = demographics_dict['total_population']\n",
    "            self.agent_ages = self.convert_age_dict(demographics_dict['age_distribution'])\n",
    "    \n",
    "    def convert_age_dict(self, age_dict):\n",
    "        \n",
    "        # Calculates the number of agents in each age range using given weights\n",
    "        weight_array = np.array(list(age_dict.values())) \n",
    "        percent_array = weight_array / np.sum(weight_array)\n",
    "        agents_by_age_range = []\n",
    "        for p in percent_array:\n",
    "            agents_by_age_range.append(int(p * self.total_population))\n",
    "        population = sum(agents_by_age_range)\n",
    "\n",
    "        # Fixes rounding errors by changing the highest number only\n",
    "        agents_by_age_range[agents_by_age_range.index(max(agents_by_age_range))] += self.total_population - population \n",
    "        population = sum(agents_by_age_range)\n",
    "        assert population == self.total_population\n",
    "\n",
    "        # Gets random ages for each age range according to their respective number of agents\n",
    "        age_range_array = np.array([0] + list(age_dict.keys()))\n",
    "        agent_ages_by_range = []\n",
    "        for i, age in enumerate(age_range_array):\n",
    "            if i == 0:\n",
    "                continue\n",
    "            agent_ages_by_range.append(np.random.randint(low = age_range_array[i-1]+1,\n",
    "                                                          high = age_range_array[i]+1,\n",
    "                                                          size = agents_by_age_range[i-1]))\n",
    "        all_agent_ages = np.concatenate(agent_ages_by_range)\n",
    "        assert len(all_agent_ages) == self.total_population\n",
    "        return all_agent_ages"
   ]
  },
  {
   "cell_type": "code",
   "execution_count": 47,
   "id": "cutting-likelihood",
   "metadata": {},
   "outputs": [],
   "source": [
    "# percent of people with age <= key\n",
    "greene_demographics = {\n",
    "    'total_population': 293086,\n",
    "    'age_distribution':{\n",
    "        4: 6.0,\n",
    "        9: 5.7,\n",
    "        14: 5.8,\n",
    "        19: 6.5,\n",
    "        24: 10.6,\n",
    "        34: 14.1,\n",
    "        44: 11.7,\n",
    "        54: 11.5,\n",
    "        59: 6.0,\n",
    "        64: 6.0,\n",
    "        74: 8.9,\n",
    "        84: 5.0,\n",
    "        100: 2.1\n",
    "    },\n",
    "    #'work_classes':{\n",
    "    #    'Retail': 12.7,\n",
    "    #}\n",
    "}\n",
    "\n",
    "demo = Demographics(greene_demographics)"
   ]
  },
  {
   "cell_type": "code",
   "execution_count": 48,
   "id": "damaged-producer",
   "metadata": {},
   "outputs": [
    {
     "data": {
      "image/png": "[encoded data removed]",
      "text/plain": [
       "<Figure size 432x288 with 1 Axes>"
      ]
     },
     "metadata": {
      "needs_background": "light"
     },
     "output_type": "display_data"
    }
   ],
   "source": [
    "plt.hist(demo.agent_ages, bins=100);"
   ]
  }
 ],
 "metadata": {
  "kernelspec": {
   "display_name": "Python 3",
   "language": "python",
   "name": "python3"
  },
  "language_info": {
   "codemirror_mode": {
    "name": "ipython",
    "version": 3
   },
   "file_extension": ".py",
   "mimetype": "text/x-python",
   "name": "python",
   "nbconvert_exporter": "python",
   "pygments_lexer": "ipython3",
   "version": "3.6.9"
  }
 },
 "nbformat": 4,
 "nbformat_minor": 5
}
